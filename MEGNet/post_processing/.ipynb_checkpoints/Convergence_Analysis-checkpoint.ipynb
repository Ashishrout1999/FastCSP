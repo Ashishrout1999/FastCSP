{
 "cells": [
  {
   "cell_type": "code",
   "execution_count": 56,
   "id": "f0c2b057",
   "metadata": {},
   "outputs": [],
   "source": [
    "import numpy as np\n",
    "import pandas as pd\n",
    "from pymatgen.core import Structure\n",
    "import matbench\n",
    "import os\n",
    "from matminer.datasets import load_dataset\n",
    "from pymatgen.symmetry.analyzer import SpacegroupAnalyzer\n",
    "from pymatgen.analysis.structure_matcher import StructureMatcher\n",
    "from pymatgen.analysis.structure_matcher import ElementComparator\n",
    "from pymatgen.ext.matproj import MPRester\n",
    "import shutil"
   ]
  },
  {
   "cell_type": "code",
   "execution_count": 121,
   "id": "de182f08",
   "metadata": {},
   "outputs": [],
   "source": [
    "path_to_crystal = '../results/MgO/'\n",
    "optimizer = 'tpe'\n",
    "pretty_formula = 'MgO'\n",
    "path_to_data = os.path.join(path_to_crystal, optimizer)"
   ]
  },
  {
   "cell_type": "code",
   "execution_count": 122,
   "id": "f651ac2a",
   "metadata": {},
   "outputs": [],
   "source": [
    "MP_API_KEY = 'edSrcmMEuWF0k1Qi'\n",
    "properties = [\"cifs.conventional_standard\", \"formation_energy_per_atom\"]\n",
    "criteria = {\"formation_energy_per_atom\": {\"$exists\": True}, \"pretty_formula\": pretty_formula}\n",
    "\n",
    "with MPRester(MP_API_KEY) as mpr:\n",
    "    ground_truth = mpr.query(criteria, properties)"
   ]
  },
  {
   "cell_type": "code",
   "execution_count": 123,
   "id": "eaecb776",
   "metadata": {},
   "outputs": [],
   "source": [
    "#Structure.from_str(ground_truth[0]['cifs.conventional_standard'], fmt = 'cif')"
   ]
  },
  {
   "cell_type": "code",
   "execution_count": 124,
   "id": "5ec38171",
   "metadata": {},
   "outputs": [],
   "source": [
    "all_directories = sorted(os.listdir(path_to_data))"
   ]
  },
  {
   "cell_type": "code",
   "execution_count": 125,
   "id": "8455f979",
   "metadata": {},
   "outputs": [],
   "source": [
    "final_matching = {}"
   ]
  },
  {
   "cell_type": "code",
   "execution_count": 126,
   "id": "cb590a56",
   "metadata": {},
   "outputs": [
    {
     "name": "stderr",
     "output_type": "stream",
     "text": [
      "C:\\Users\\ashro\\anaconda3\\envs\\cgcnn\\lib\\site-packages\\pymatgen\\io\\cif.py:1164: UserWarning: Issues encountered while parsing CIF: Some fractional co-ordinates rounded to ideal values to avoid issues with finite precision.\n",
      "  warnings.warn(\"Issues encountered while parsing CIF: %s\" % \"\\n\".join(self.warnings))\n"
     ]
    }
   ],
   "source": [
    "for directory in all_directories:\n",
    "    path_to_curr_dir = os.path.join(path_to_data, directory)\n",
    "    energy_csv = pd.read_csv(path_to_curr_dir + '/results/energy_data.csv')\n",
    "    min_energy = np.min(energy_csv['energy'])\n",
    "    optimal_step = int(energy_csv[energy_csv['energy'] == min_energy]['step'])\n",
    "    best_cif = [x for x in os.listdir(path_to_curr_dir + '/results/structures/') if x.split('_')[-2] == str(optimal_step)]\n",
    "    shutil.copy(path_to_curr_dir + '/results/structures/' + best_cif[0], path_to_curr_dir + '/results/structures/' + 'best_cif.cif')\n",
    "    \n",
    "    pred = Structure.from_file(path_to_curr_dir + '/results/structures/' + 'best_cif.cif')\n",
    "    for i in range(len(ground_truth)):\n",
    "        true = Structure.from_str(ground_truth[i]['cifs.conventional_standard'], fmt = 'cif')\n",
    "        sm = StructureMatcher(comparator = ElementComparator(), primitive_cell = False)\n",
    "        if sm.fit(pred, true) == True:\n",
    "            true_form = ground_truth[i]['formation_energy_per_atom']\n",
    "            form_e_error = abs(true_form - min_energy)\n",
    "            lattice_pred = np.array([pred.as_dict()['lattice']['a'], pred.as_dict()['lattice']['b'],\n",
    "                                     pred.as_dict()['lattice']['c']])\n",
    "            lattice_true = np.array([true.as_dict()['lattice']['a'], true.as_dict()['lattice']['b'],\n",
    "                                     true.as_dict()['lattice']['c']])\n",
    "            mape_lattice = np.mean((np.abs(lattice_true - lattice_pred) / lattice_true) * 100)\n",
    "            final_matching[directory] = [True, form_e_error, mape_lattice]\n",
    "            break"
   ]
  },
  {
   "cell_type": "code",
   "execution_count": 127,
   "id": "4e981c43",
   "metadata": {},
   "outputs": [
    {
     "data": {
      "text/plain": [
       "{'MgO_train1-230_perturbedepoch1000_tpe_space75-230': [True,\n",
       "  0.04812109155904132,\n",
       "  6.10984300657539],\n",
       " 'MgO_train75-230_unperturbedepoch1000_tpe_space75-230': [True,\n",
       "  0.23072325868855792,\n",
       "  7.0296089448474435]}"
      ]
     },
     "execution_count": 127,
     "metadata": {},
     "output_type": "execute_result"
    }
   ],
   "source": [
    "final_matching"
   ]
  },
  {
   "cell_type": "code",
   "execution_count": 128,
   "id": "9b76918b",
   "metadata": {},
   "outputs": [],
   "source": [
    "#Structure.from_str(ground_truth[i]['cifs.conventional_standard'], fmt = 'cif').as_dict()['lattice']['a']"
   ]
  },
  {
   "cell_type": "code",
   "execution_count": 129,
   "id": "6a120690",
   "metadata": {},
   "outputs": [],
   "source": [
    "mean_form_error = np.mean([final_matching[x][1] for x in final_matching])\n",
    "mean_lattice_percent_error = np.mean([final_matching[x][2] for x in final_matching])"
   ]
  },
  {
   "cell_type": "code",
   "execution_count": 130,
   "id": "6893a441",
   "metadata": {},
   "outputs": [
    {
     "name": "stdout",
     "output_type": "stream",
     "text": [
      "Mean Absolute Error in Prediction of Formation Energy is 0.1394 eV/atom\n",
      "Mean Absolute Percentage Error in Prediction of Lattice Constant is 6.57%\n"
     ]
    }
   ],
   "source": [
    "print('Mean Absolute Error in Prediction of Formation Energy is {} eV/atom'.format(round(mean_form_error, 4)))\n",
    "print('Mean Absolute Percentage Error in Prediction of Lattice Constant is {}%'\n",
    "      .format(round(mean_lattice_percent_error, 3)))"
   ]
  },
  {
   "cell_type": "code",
   "execution_count": null,
   "id": "e76099c3",
   "metadata": {},
   "outputs": [],
   "source": []
  }
 ],
 "metadata": {
  "kernelspec": {
   "display_name": "Python 3 (ipykernel)",
   "language": "python",
   "name": "python3"
  },
  "language_info": {
   "codemirror_mode": {
    "name": "ipython",
    "version": 3
   },
   "file_extension": ".py",
   "mimetype": "text/x-python",
   "name": "python",
   "nbconvert_exporter": "python",
   "pygments_lexer": "ipython3",
   "version": "3.9.9"
  }
 },
 "nbformat": 4,
 "nbformat_minor": 5
}
